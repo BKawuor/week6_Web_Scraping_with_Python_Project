{
  "cells": [
    {
      "cell_type": "markdown",
      "metadata": {
        "id": "MX6j2b34UnDu"
      },
      "source": [
        "### Import Important Packages"
      ]
    },
    {
      "cell_type": "code",
      "execution_count": 1,
      "metadata": {
        "id": "fx1-C9gRUnDy"
      },
      "outputs": [],
      "source": [
        "# We first import the required libraries\n",
        "import csv\n",
        "import pandas as pd             # library for data manupation\n",
        "import requests                 # library for fetching a web page\n",
        "from bs4 import BeautifulSoup   # library for extrating contents from a webpage"
      ]
    },
    {
      "cell_type": "markdown",
      "metadata": {
        "id": "FGCdRt2BUnD0"
      },
      "source": [
        "### Obtaining the Data"
      ]
    },
    {
      "cell_type": "code",
      "execution_count": null,
      "metadata": {
        "id": "HZXLpR35UnD1",
        "outputId": "b3a72eaa-5c9f-4921-cc1c-fa49d2ad2bec"
      },
      "outputs": [
        {
          "data": {
            "text/plain": [
              "<Response [200]>"
            ]
          },
          "execution_count": 61,
          "metadata": {},
          "output_type": "execute_result"
        }
      ],
      "source": [
        "# PigiaMe: https://www.pigiame.co.ke/it-software-jobs\n",
        "pigia_me = requests.get('https://www.pigiame.co.ke/it-software-jobs')\n",
        "pigia_me"
      ]
    },
    {
      "cell_type": "code",
      "execution_count": null,
      "metadata": {
        "id": "SB6dDFuuUnD2",
        "outputId": "8923067a-e7f4-4d2b-bf31-75cb2426630a"
      },
      "outputs": [
        {
          "data": {
            "text/plain": [
              "'OK'"
            ]
          },
          "execution_count": 62,
          "metadata": {},
          "output_type": "execute_result"
        }
      ],
      "source": [
        "pigia_me.reason"
      ]
    },
    {
      "cell_type": "code",
      "execution_count": null,
      "metadata": {
        "id": "JEFVewfOUnD2",
        "outputId": "80d43d7b-06fc-4af2-ebd6-028817c86250"
      },
      "outputs": [
        {
          "data": {
            "text/plain": [
              "<Response [200]>"
            ]
          },
          "execution_count": 63,
          "metadata": {},
          "output_type": "execute_result"
        }
      ],
      "source": [
        "# MyJobMag: https://www.myjobmag.co.ke/jobs-by-field/information-technology\n",
        "\n",
        "my_job_mag = requests.get('https://www.myjobmag.co.ke/jobs-by-field/information-technology')\n",
        "my_job_mag"
      ]
    },
    {
      "cell_type": "code",
      "execution_count": null,
      "metadata": {
        "id": "_C4Fpt_KUnD3",
        "outputId": "5d695f77-5e4c-4bde-9c2e-81f055ac41d6"
      },
      "outputs": [
        {
          "data": {
            "text/plain": [
              "'OK'"
            ]
          },
          "execution_count": 64,
          "metadata": {},
          "output_type": "execute_result"
        }
      ],
      "source": [
        "my_job_mag.reason"
      ]
    },
    {
      "cell_type": "code",
      "execution_count": null,
      "metadata": {
        "id": "WKgg9kCOUnD3",
        "outputId": "8d8c3e71-0246-4a88-cdd2-4fe69d932df9"
      },
      "outputs": [
        {
          "data": {
            "text/plain": [
              "<Response [200]>"
            ]
          },
          "execution_count": 65,
          "metadata": {},
          "output_type": "execute_result"
        }
      ],
      "source": [
        "# KenyaJob: https://www.kenyajob.com/job-vacancies-search-kenya?f%5B0%5D=im_field_offre_secteur%3A133\n",
        "\n",
        "kenya_job = requests.get('https://www.kenyajob.com/job-vacancies-search-kenya?f%5B0%5D=im_field_offre_secteur%3A133')\n",
        "kenya_job"
      ]
    },
    {
      "cell_type": "code",
      "execution_count": null,
      "metadata": {
        "id": "HZrGDG-KUnD4",
        "outputId": "275d6de1-6dea-4967-a2aa-591110eaac1b"
      },
      "outputs": [
        {
          "data": {
            "text/plain": [
              "'OK'"
            ]
          },
          "execution_count": 66,
          "metadata": {},
          "output_type": "execute_result"
        }
      ],
      "source": [
        "kenya_job.reason"
      ]
    },
    {
      "cell_type": "markdown",
      "metadata": {
        "id": "qhaXY4_HUnD4"
      },
      "source": [
        "### Parsing"
      ]
    },
    {
      "cell_type": "code",
      "execution_count": null,
      "metadata": {
        "id": "jZqXAss7UnD5"
      },
      "outputs": [],
      "source": [
        "# PigiaMe: https://www.pigiame.co.ke/it-software-jobs\n",
        "pigia_me = requests.get('https://www.pigiame.co.ke/it-software-jobs')\n",
        "pigia_me_soup = BeautifulSoup(pigia_me.text, 'html.parser')"
      ]
    },
    {
      "cell_type": "code",
      "execution_count": null,
      "metadata": {
        "id": "KHTxVD4IUnD5"
      },
      "outputs": [],
      "source": [
        "# MyJobMag: https://www.myjobmag.co.ke/jobs-by-field/information-technology\n",
        "my_job_mag = requests.get('https://www.myjobmag.co.ke/jobs-by-field/information-technology')\n",
        "my_job_mag_soup = BeautifulSoup(my_job_mag.text, 'html.parser')"
      ]
    },
    {
      "cell_type": "code",
      "execution_count": null,
      "metadata": {
        "id": "HRua5ZJlUnD5"
      },
      "outputs": [],
      "source": [
        "# KenyaJob: https://www.kenyajob.com/job-vacancies-search-kenya?f%5B0%5D=im_field_offre_secteur%3A133\n",
        "kenya_job = requests.get('https://www.kenyajob.com/job-vacancies-search-kenya?f%5B0%5D=im_field_offre_secteur%3A133')\n",
        "kenya_job_soup = BeautifulSoup(kenya_job.text, 'html.parser')"
      ]
    },
    {
      "cell_type": "code",
      "execution_count": null,
      "metadata": {
        "id": "dOxJw4EoUnD5"
      },
      "outputs": [],
      "source": [
        "# Initialize empty lists to store job titles and links\n",
        "job_titles = []\n",
        "job_links = []"
      ]
    },
    {
      "cell_type": "markdown",
      "metadata": {
        "id": "FO1W_ZlcUnD6"
      },
      "source": [
        "### Extracting Required Elements from pigia me Website"
      ]
    },
    {
      "cell_type": "code",
      "execution_count": null,
      "metadata": {
        "id": "8CQ0yn_zUnD6",
        "outputId": "08895cae-5679-4af8-ec7a-ab587ec7d43b"
      },
      "outputs": [
        {
          "data": {
            "text/plain": [
              "10"
            ]
          },
          "execution_count": 71,
          "metadata": {},
          "output_type": "execute_result"
        }
      ],
      "source": [
        "# PigiaMe: Locate and extract job titles and links\n",
        "pigia_me_job_items = pigia_me_soup.find_all('div',\"listings-cards__list-item\" )\n",
        "len(pigia_me_job_items)"
      ]
    },
    {
      "cell_type": "markdown",
      "metadata": {
        "id": "xt712QAmUnD6"
      },
      "source": [
        "### Prototype the model with a single record"
      ]
    },
    {
      "cell_type": "code",
      "execution_count": null,
      "metadata": {
        "id": "Y8CaU2trUnD6"
      },
      "outputs": [],
      "source": [
        "pigia_me_job_item =pigia_me_job_items[0]"
      ]
    },
    {
      "cell_type": "code",
      "execution_count": null,
      "metadata": {
        "id": "qY-BQVcSUnD6"
      },
      "outputs": [],
      "source": [
        "a_tag = pigia_me_job_item.div.a"
      ]
    },
    {
      "cell_type": "code",
      "execution_count": null,
      "metadata": {
        "id": "b6RPMAlcUnD6"
      },
      "outputs": [],
      "source": [
        "job_title = a_tag.get('data-t-listing_title')"
      ]
    },
    {
      "cell_type": "code",
      "execution_count": null,
      "metadata": {
        "id": "0M3a-JgLUnD6"
      },
      "outputs": [],
      "source": [
        "job_url = a_tag.get('href')"
      ]
    },
    {
      "cell_type": "markdown",
      "metadata": {
        "id": "ch_0mB3CUnD7"
      },
      "source": [
        "### Generalize the model with a function"
      ]
    },
    {
      "cell_type": "code",
      "execution_count": null,
      "metadata": {
        "id": "LkjIjY2-UnD7"
      },
      "outputs": [],
      "source": [
        "def get_record(pigia_me_job_item):\n",
        "    a_tag = pigia_me_job_item.div.a\n",
        "    job_title = a_tag.get('data-t-listing_title')\n",
        "    job_url = a_tag.get('href')\n",
        "    record = (job_title, job_url)\n",
        "    return record\n"
      ]
    },
    {
      "cell_type": "code",
      "execution_count": null,
      "metadata": {
        "id": "2Sa9uL6nUnD7"
      },
      "outputs": [],
      "source": [
        "records = []\n",
        "for pigia_me_job_item in pigia_me_job_items:\n",
        "    record = get_record(pigia_me_job_item)\n",
        "    records.append(record)\n"
      ]
    },
    {
      "cell_type": "code",
      "execution_count": null,
      "metadata": {
        "id": "khBkTL0-UnD7",
        "outputId": "66eec94e-def0-4f3e-ffd0-ddb237033fe8"
      },
      "outputs": [
        {
          "data": {
            "text/plain": [
              "[('Apprentice IT Opportunities',\n",
              "  'https://www.pigiame.co.ke/listings/apprentice-it-opportunities-5853417'),\n",
              " ('IT & Data Analytics Intern',\n",
              "  'https://www.pigiame.co.ke/listings/it-data-analytics-intern-5850686'),\n",
              " ('Data Officer - Siaya',\n",
              "  'https://www.pigiame.co.ke/listings/data-officer-siaya-5848177'),\n",
              " ('Senior Networking Engineer',\n",
              "  'https://www.pigiame.co.ke/listings/senior-networking-engineer-5847031'),\n",
              " ('IT – Technical Manager',\n",
              "  'https://www.pigiame.co.ke/listings/it-technical-manager-5847017'),\n",
              " ('Senior Enterprise Engineer',\n",
              "  'https://www.pigiame.co.ke/listings/senior-enterprise-engineer-5847015'),\n",
              " ('Security Support Engineer',\n",
              "  'https://www.pigiame.co.ke/listings/security-support-engineer-5847008'),\n",
              " ('Applications and Systems Developer',\n",
              "  'https://www.pigiame.co.ke/listings/applications-and-systems-developer-5845652'),\n",
              " ('Full Stack Web Developer',\n",
              "  'https://www.pigiame.co.ke/listings/full-stack-web-developer-5844995'),\n",
              " ('Software Development Java, nodeJs ( Nyeri)',\n",
              "  'https://www.pigiame.co.ke/listings/software-development-java-nodejs-nyeri-5838751')]"
            ]
          },
          "execution_count": 78,
          "metadata": {},
          "output_type": "execute_result"
        }
      ],
      "source": [
        "records"
      ]
    },
    {
      "cell_type": "markdown",
      "metadata": {
        "id": "dsKLvSSTUnD7"
      },
      "source": [
        "### Getting the Next Page"
      ]
    },
    {
      "cell_type": "code",
      "execution_count": null,
      "metadata": {
        "id": "BmM4SkzBUnD7"
      },
      "outputs": [],
      "source": [
        "# Create an empty list to store records\n",
        "\n",
        "\n",
        "while True:\n",
        "    try:\n",
        "        # Construct the URL for the next page\n",
        "        url = 'https://www.pigiame.co.ke' + pigia_me_soup.find('a', {'aria-label': \"Next »\"}).get('href')\n",
        "    except AttributeError:\n",
        "        break\n",
        "\n",
        "    # Fetch the next page\n",
        "    pigia_me = requests.get(url)\n",
        "    pigia_me_soup = BeautifulSoup(pigia_me.text, 'html.parser')\n",
        "\n",
        "    # Find job items on the page\n",
        "    pigia_me_job_items = pigia_me_soup.find_all('div', class_='listings-cards__list-item')\n",
        "\n",
        "    # Loop through job items on the current page\n",
        "    for pigia_me_job_item in pigia_me_job_items:\n",
        "        record = get_record(pigia_me_job_item)  # Assuming you have a function 'get_record'\n",
        "        records.append(record)"
      ]
    },
    {
      "cell_type": "code",
      "execution_count": null,
      "metadata": {
        "id": "FcbcrSFnUnD8",
        "outputId": "beb4b9c1-eb5c-402f-dd2d-c77c54ddb89e"
      },
      "outputs": [
        {
          "data": {
            "text/plain": [
              "47"
            ]
          },
          "execution_count": 80,
          "metadata": {},
          "output_type": "execute_result"
        }
      ],
      "source": [
        "len(records)"
      ]
    },
    {
      "cell_type": "markdown",
      "metadata": {
        "id": "xoGbFhBaUnD8"
      },
      "source": [
        "### Kenya jobs Website"
      ]
    },
    {
      "cell_type": "code",
      "execution_count": null,
      "metadata": {
        "id": "FFzsmCyTUnD8"
      },
      "outputs": [],
      "source": [
        "# Find job listings on the page\n",
        "job_listings = kenya_job_soup.find_all('div', 'col-lg-5 col-md-5 col-sm-5 col-xs-12 job-title')\n",
        "for job_listing in job_listings:\n",
        "    # Extract job title\n",
        "    job_title = job_listing.find('h5').find('a').text.strip()\n",
        "\n",
        "    # Extract job URL\n",
        "    job_url = 'https://www.kenyajob.com' + job_listing.find('h5').find('a')['href']\n",
        "\n",
        "    # Append job title and URL as a tuple to job_records\n",
        "    records.append((job_title, job_url))"
      ]
    },
    {
      "cell_type": "code",
      "execution_count": null,
      "metadata": {
        "id": "kV2IzqyoUnD8",
        "outputId": "962c60e9-9214-456c-c0c7-945704d8e7e1"
      },
      "outputs": [
        {
          "data": {
            "text/plain": [
              "[('Apprentice IT Opportunities',\n",
              "  'https://www.pigiame.co.ke/listings/apprentice-it-opportunities-5853417'),\n",
              " ('IT & Data Analytics Intern',\n",
              "  'https://www.pigiame.co.ke/listings/it-data-analytics-intern-5850686'),\n",
              " ('Data Officer - Siaya',\n",
              "  'https://www.pigiame.co.ke/listings/data-officer-siaya-5848177'),\n",
              " ('Senior Networking Engineer',\n",
              "  'https://www.pigiame.co.ke/listings/senior-networking-engineer-5847031'),\n",
              " ('IT – Technical Manager',\n",
              "  'https://www.pigiame.co.ke/listings/it-technical-manager-5847017'),\n",
              " ('Senior Enterprise Engineer',\n",
              "  'https://www.pigiame.co.ke/listings/senior-enterprise-engineer-5847015'),\n",
              " ('Security Support Engineer',\n",
              "  'https://www.pigiame.co.ke/listings/security-support-engineer-5847008'),\n",
              " ('Applications and Systems Developer',\n",
              "  'https://www.pigiame.co.ke/listings/applications-and-systems-developer-5845652'),\n",
              " ('Full Stack Web Developer',\n",
              "  'https://www.pigiame.co.ke/listings/full-stack-web-developer-5844995'),\n",
              " ('Software Development Java, nodeJs ( Nyeri)',\n",
              "  'https://www.pigiame.co.ke/listings/software-development-java-nodejs-nyeri-5838751'),\n",
              " ('Mobile Developer',\n",
              "  'https://www.pigiame.co.ke/listings/mobile-developer-5832428'),\n",
              " ('Mobile Developer',\n",
              "  'https://www.pigiame.co.ke/listings/mobile-developer-5832312'),\n",
              " ('SOFTWARE DEVELOPER',\n",
              "  'https://www.pigiame.co.ke/listings/software-developer-5822482'),\n",
              " ('DYNAMICS 365 CRM TECHNICAL CONSULTANT',\n",
              "  'https://www.pigiame.co.ke/listings/dynamics-365-crm-technical-consultant-5822347'),\n",
              " ('IT and Digital Marketing Intern (Immediate start date)',\n",
              "  'https://www.pigiame.co.ke/listings/it-and-digital-marketing-intern-immediate-start-date-5828182'),\n",
              " ('Software Development Lead - Odoo solutions',\n",
              "  'https://www.pigiame.co.ke/listings/software-development-lead-odoo-solutions-5821404'),\n",
              " ('Network Administrator',\n",
              "  'https://www.pigiame.co.ke/listings/network-administrator-5809200'),\n",
              " ('Web Developer Laravel / VueJS',\n",
              "  'https://www.pigiame.co.ke/listings/web-developer-laravel-vuejs-5800604'),\n",
              " ('Global Monitoring, Evaluation and Learning Director',\n",
              "  'https://www.pigiame.co.ke/listings/global-monitoring-evaluation-and-learning-director-5784745'),\n",
              " ('Network Operations Technician at Koko Networks',\n",
              "  'https://www.pigiame.co.ke/listings/network-operations-technician-at-koko-networks-5778519'),\n",
              " ('Backend Engineer at Kuda',\n",
              "  'https://www.pigiame.co.ke/listings/backend-engineer-at-kuda-5760149'),\n",
              " ('Field Software Engineer at Canonical',\n",
              "  'https://www.pigiame.co.ke/listings/field-software-engineer-at-canonical-5747034'),\n",
              " ('Telco Cloud Field Engineer at Canonical',\n",
              "  'https://www.pigiame.co.ke/listings/telco-cloud-field-engineer-at-canonical-5747032'),\n",
              " ('Manager, Digital Adoption at Standard Bank Group',\n",
              "  'https://www.pigiame.co.ke/listings/manager-digital-adoption-at-standard-bank-group-5746980'),\n",
              " ('Information Manager at CARE',\n",
              "  'https://www.pigiame.co.ke/listings/information-manager-at-care-5743528'),\n",
              " ('ICT Business Application Analyst at CIC Insurance',\n",
              "  'https://www.pigiame.co.ke/listings/ict-business-application-analyst-at-cic-insurance-5742195'),\n",
              " ('Social Media Intern',\n",
              "  'https://www.pigiame.co.ke/listings/social-media-intern-5726111'),\n",
              " ('ICT Manager', 'https://www.pigiame.co.ke/listings/ict-manager-5523038'),\n",
              " ('IT & T Assistant',\n",
              "  'https://www.pigiame.co.ke/listings/it-t-assistant-5463851'),\n",
              " ('Bioinformatic and Software Developer',\n",
              "  'https://www.pigiame.co.ke/listings/bioinformatic-and-software-developer-5427801'),\n",
              " ('Digital Account Manager',\n",
              "  'https://www.pigiame.co.ke/listings/digital-account-manager-5203287'),\n",
              " ('Digital Marketing Executive',\n",
              "  'https://www.pigiame.co.ke/listings/digital-marketing-executive-5203258'),\n",
              " ('SEO Marketing and Google Adwords Specialist',\n",
              "  'https://www.pigiame.co.ke/listings/seo-marketing-and-google-adwords-specialist-5123163'),\n",
              " ('Digital Marketing Manager',\n",
              "  'https://www.pigiame.co.ke/listings/digital-marketing-manager-5123105'),\n",
              " ('Computer Programmer',\n",
              "  'https://www.pigiame.co.ke/listings/computer-programmer-4956430'),\n",
              " ('CONSTRUCTION SITE AGENT (6 POSITIONS)',\n",
              "  'https://www.pigiame.co.ke/listings/construction-site-agent-6-positions-5853613'),\n",
              " ('Apprentice IT Opportunities',\n",
              "  'https://www.pigiame.co.ke/listings/apprentice-it-opportunities-5853417'),\n",
              " ('Consultant Writer and Editor',\n",
              "  'https://www.pigiame.co.ke/listings/consultant-writer-and-editor-5853386'),\n",
              " ('Sales and Marketing Officer',\n",
              "  'https://www.pigiame.co.ke/listings/sales-and-marketing-officer-5853252'),\n",
              " ('BUILDING CONSTRUCTION FOREMAN (13 POSITIONS)',\n",
              "  'https://www.pigiame.co.ke/listings/building-construction-foreman-13-positions-5853184'),\n",
              " ('Agricultural Systems Change Lead (Fixed-Term)',\n",
              "  'https://www.pigiame.co.ke/listings/agricultural-systems-change-lead-fixed-term-5853008'),\n",
              " ('Graphic Designer',\n",
              "  'https://www.pigiame.co.ke/listings/graphic-designer-5851786'),\n",
              " ('COMMUNICATIONS OFFICER (7 positions)',\n",
              "  'https://www.pigiame.co.ke/listings/communications-officer-7-positions-5853015'),\n",
              " ('General Manager',\n",
              "  'https://www.pigiame.co.ke/listings/general-manager-5853009'),\n",
              " ('WELDERS', 'https://www.pigiame.co.ke/listings/welders-5845878'),\n",
              " ('Front Office Manager/Customer Service',\n",
              "  'https://www.pigiame.co.ke/listings/front-office-managercustomer-service-5851517'),\n",
              " ('Sales Representative – Facility Services',\n",
              "  'https://www.pigiame.co.ke/listings/sales-representative-facility-services-5850853'),\n",
              " ('Customer Service Agent',\n",
              "  'https://www.kenyajob.com/job-vacancies-kenya/customer-service-agent-132792'),\n",
              " ('ANGULAR Developer (M/F)',\n",
              "  'https://www.kenyajob.com/job-vacancies-kenya/angular-developer-mf-144864'),\n",
              " ('DevOps Engineer (M/F)',\n",
              "  'https://www.kenyajob.com/job-vacancies-kenya/devops-engineer-mf-144865'),\n",
              " ('DOTNET Developer (M/F)',\n",
              "  'https://www.kenyajob.com/job-vacancies-kenya/dotnet-developer-mf-144866'),\n",
              " ('IOS Developer (M/F)',\n",
              "  'https://www.kenyajob.com/job-vacancies-kenya/ios-developer-mf-144867'),\n",
              " ('JAVA Developer (M/F)',\n",
              "  'https://www.kenyajob.com/job-vacancies-kenya/java-developer-mf-144868'),\n",
              " ('JAVA JEE Developer (M/F)',\n",
              "  'https://www.kenyajob.com/job-vacancies-kenya/java-jee-developer-mf-144869'),\n",
              " ('JAVASCRIPT Developer (M/F)',\n",
              "  'https://www.kenyajob.com/job-vacancies-kenya/javascript-developer-mf-144870'),\n",
              " ('KOTLIN Developer (M/F)',\n",
              "  'https://www.kenyajob.com/job-vacancies-kenya/kotlin-developer-mf-144871'),\n",
              " ('LARAVEL Developer (M/F)',\n",
              "  'https://www.kenyajob.com/job-vacancies-kenya/laravel-developer-mf-144872'),\n",
              " ('NODE.JS Developer (M/F)',\n",
              "  'https://www.kenyajob.com/job-vacancies-kenya/nodejs-developer-mf-144873'),\n",
              " ('OBJECTIVE-C Developer (M/F)',\n",
              "  'https://www.kenyajob.com/job-vacancies-kenya/objective-c-developer-mf-144874'),\n",
              " ('PHP Developer (M/F)',\n",
              "  'https://www.kenyajob.com/job-vacancies-kenya/php-developer-mf-144875'),\n",
              " ('PYTHON Developer (M/F)',\n",
              "  'https://www.kenyajob.com/job-vacancies-kenya/python-developer-mf-144876'),\n",
              " ('QA Tester (M/F)',\n",
              "  'https://www.kenyajob.com/job-vacancies-kenya/qa-tester-mf-144877'),\n",
              " ('REACT Developer (M/F)',\n",
              "  'https://www.kenyajob.com/job-vacancies-kenya/react-developer-mf-144878'),\n",
              " ('RUBY ON RAILS Developer (M/F)',\n",
              "  'https://www.kenyajob.com/job-vacancies-kenya/ruby-on-rails-developer-mf-144879'),\n",
              " ('SWIFT Developer (M/F)',\n",
              "  'https://www.kenyajob.com/job-vacancies-kenya/swift-developer-mf-144880'),\n",
              " ('Test and Validation Engineer (M/F)',\n",
              "  'https://www.kenyajob.com/job-vacancies-kenya/test-validation-engineer-mf-144881'),\n",
              " ('Test Automation Engineer (M/F)',\n",
              "  'https://www.kenyajob.com/job-vacancies-kenya/test-automation-engineer-mf-144882'),\n",
              " ('UX / UI Designer (M/F)',\n",
              "  'https://www.kenyajob.com/job-vacancies-kenya/ux-ui-designer-mf-144883'),\n",
              " ('AWS Cloud Architect (M/F)',\n",
              "  'https://www.kenyajob.com/job-vacancies-kenya/aws-cloud-architect-mf-144884'),\n",
              " ('AWS Solutions Architect (M/F)',\n",
              "  'https://www.kenyajob.com/job-vacancies-kenya/aws-solutions-architect-mf-144885'),\n",
              " ('AZURE Solutions Architect (M/F)',\n",
              "  'https://www.kenyajob.com/job-vacancies-kenya/azure-solutions-architect-mf-144886'),\n",
              " ('Cloud Architect (M/F)',\n",
              "  'https://www.kenyajob.com/job-vacancies-kenya/cloud-architect-mf-144887')]"
            ]
          },
          "execution_count": 82,
          "metadata": {},
          "output_type": "execute_result"
        }
      ],
      "source": [
        "records"
      ]
    },
    {
      "cell_type": "markdown",
      "metadata": {
        "id": "NkgwUy7dUnD8"
      },
      "source": [
        "### Myjob website"
      ]
    },
    {
      "cell_type": "code",
      "execution_count": null,
      "metadata": {
        "id": "RSVPAaYRUnD9"
      },
      "outputs": [],
      "source": [
        "# Find job listings on the page\n",
        "job_lists = my_job_mag_soup.find_all('li', 'mag-b')\n",
        "for job_list in job_lists:\n",
        "    # Extract job title\n",
        "    job_title = job_list.find('h2').find('a').text.strip()\n",
        "\n",
        "    # Extract job URL\n",
        "    job_url = 'https://www.myjobmag.co.ke' + job_list.find('h2').find('a')['href']\n",
        "\n",
        "    # Append job title and URL as a tuple to job_records\n",
        "    records.append((job_title, job_url))"
      ]
    },
    {
      "cell_type": "code",
      "execution_count": null,
      "metadata": {
        "id": "Ea3u_r32UnD9",
        "outputId": "78359e6a-2b43-4e14-bbd8-c10e4d7171be"
      },
      "outputs": [
        {
          "data": {
            "text/plain": [
              "90"
            ]
          },
          "execution_count": 84,
          "metadata": {},
          "output_type": "execute_result"
        }
      ],
      "source": [
        "len(records)"
      ]
    },
    {
      "cell_type": "code",
      "execution_count": null,
      "metadata": {
        "id": "mHbcMXcyUnD9"
      },
      "outputs": [],
      "source": [
        "# Write job records to a CSV file\n",
        "csv_file_path = 'job_listings.csv'\n",
        "with open(csv_file_path, 'w', newline='', encoding='utf-8') as csv_file:\n",
        "    csv_writer = csv.writer(csv_file)\n",
        "    csv_writer.writerow(['Job Title', 'Job URL'])  # Write header row\n",
        "    csv_writer.writerows(records)"
      ]
    },
    {
      "cell_type": "code",
      "execution_count": null,
      "metadata": {
        "id": "ltlaigFaUnD9"
      },
      "outputs": [],
      "source": [
        "data = pd.read_csv('job_listings.csv')"
      ]
    },
    {
      "cell_type": "code",
      "execution_count": null,
      "metadata": {
        "id": "IpCxga0MUnD9",
        "outputId": "7b65e942-492e-47f6-bc3a-d60d5fb31411"
      },
      "outputs": [
        {
          "data": {
            "text/html": [
              "<div>\n",
              "<style scoped>\n",
              "    .dataframe tbody tr th:only-of-type {\n",
              "        vertical-align: middle;\n",
              "    }\n",
              "\n",
              "    .dataframe tbody tr th {\n",
              "        vertical-align: top;\n",
              "    }\n",
              "\n",
              "    .dataframe thead th {\n",
              "        text-align: right;\n",
              "    }\n",
              "</style>\n",
              "<table border=\"1\" class=\"dataframe\">\n",
              "  <thead>\n",
              "    <tr style=\"text-align: right;\">\n",
              "      <th></th>\n",
              "      <th>Job Title</th>\n",
              "      <th>Job URL</th>\n",
              "    </tr>\n",
              "  </thead>\n",
              "  <tbody>\n",
              "    <tr>\n",
              "      <th>0</th>\n",
              "      <td>Apprentice IT Opportunities</td>\n",
              "      <td>https://www.pigiame.co.ke/listings/apprentice-...</td>\n",
              "    </tr>\n",
              "    <tr>\n",
              "      <th>1</th>\n",
              "      <td>IT &amp; Data Analytics Intern</td>\n",
              "      <td>https://www.pigiame.co.ke/listings/it-data-ana...</td>\n",
              "    </tr>\n",
              "    <tr>\n",
              "      <th>2</th>\n",
              "      <td>Data Officer - Siaya</td>\n",
              "      <td>https://www.pigiame.co.ke/listings/data-office...</td>\n",
              "    </tr>\n",
              "    <tr>\n",
              "      <th>3</th>\n",
              "      <td>Senior Networking Engineer</td>\n",
              "      <td>https://www.pigiame.co.ke/listings/senior-netw...</td>\n",
              "    </tr>\n",
              "    <tr>\n",
              "      <th>4</th>\n",
              "      <td>IT – Technical Manager</td>\n",
              "      <td>https://www.pigiame.co.ke/listings/it-technica...</td>\n",
              "    </tr>\n",
              "  </tbody>\n",
              "</table>\n",
              "</div>"
            ],
            "text/plain": [
              "                     Job Title  \\\n",
              "0  Apprentice IT Opportunities   \n",
              "1   IT & Data Analytics Intern   \n",
              "2         Data Officer - Siaya   \n",
              "3   Senior Networking Engineer   \n",
              "4       IT – Technical Manager   \n",
              "\n",
              "                                             Job URL  \n",
              "0  https://www.pigiame.co.ke/listings/apprentice-...  \n",
              "1  https://www.pigiame.co.ke/listings/it-data-ana...  \n",
              "2  https://www.pigiame.co.ke/listings/data-office...  \n",
              "3  https://www.pigiame.co.ke/listings/senior-netw...  \n",
              "4  https://www.pigiame.co.ke/listings/it-technica...  "
            ]
          },
          "execution_count": 87,
          "metadata": {},
          "output_type": "execute_result"
        }
      ],
      "source": [
        "data.head()"
      ]
    }
  ],
  "metadata": {
    "kernelspec": {
      "display_name": "Python (learn-env)",
      "language": "python",
      "name": "learn-env"
    },
    "language_info": {
      "codemirror_mode": {
        "name": "ipython",
        "version": 3
      },
      "file_extension": ".py",
      "mimetype": "text/x-python",
      "name": "python",
      "nbconvert_exporter": "python",
      "pygments_lexer": "ipython3",
      "version": "3.10.9"
    },
    "orig_nbformat": 4,
    "colab": {
      "provenance": []
    }
  },
  "nbformat": 4,
  "nbformat_minor": 0
}